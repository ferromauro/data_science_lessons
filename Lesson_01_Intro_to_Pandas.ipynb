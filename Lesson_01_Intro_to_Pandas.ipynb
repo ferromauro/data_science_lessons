{
 "cells": [
  {
   "cell_type": "markdown",
   "metadata": {},
   "source": [
    "# Intro to Pandas\n",
    "Andiamo a vedere come caricare le librerie di Pandas e Numpy, come creare serie di dati grazie alle funzioni di Numpy per poi inserirli in un DataFrame Pandas. \n",
    "\n",
    "Andiamo a vedere come slezionare e filtrare i dati all'interno di un DataFrame e come effettuare senplici operazioni con gli scalari."
   ]
  },
  {
   "cell_type": "code",
   "execution_count": 1,
   "metadata": {},
   "outputs": [],
   "source": [
    "import numpy as np\n",
    "import pandas as pd\n",
    "from pandas import Series, DataFrame"
   ]
  },
  {
   "cell_type": "code",
   "execution_count": 2,
   "metadata": {},
   "outputs": [
    {
     "data": {
      "text/plain": [
       "row 1    0\n",
       "row 2    1\n",
       "row 3    2\n",
       "row 4    3\n",
       "row 5    4\n",
       "row 6    5\n",
       "dtype: int32"
      ]
     },
     "execution_count": 2,
     "metadata": {},
     "output_type": "execute_result"
    }
   ],
   "source": [
    "series_obj = Series(np.arange(0,6), index =['row 1', 'row 2','row 3','row 4', 'row 5','row 6'])\n",
    "series_obj"
   ]
  },
  {
   "cell_type": "code",
   "execution_count": 3,
   "metadata": {},
   "outputs": [
    {
     "data": {
      "text/plain": [
       "5"
      ]
     },
     "execution_count": 3,
     "metadata": {},
     "output_type": "execute_result"
    }
   ],
   "source": [
    "series_obj['row 6']"
   ]
  },
  {
   "cell_type": "code",
   "execution_count": 4,
   "metadata": {},
   "outputs": [
    {
     "data": {
      "text/plain": [
       "row 1    0\n",
       "row 6    5\n",
       "dtype: int32"
      ]
     },
     "execution_count": 4,
     "metadata": {},
     "output_type": "execute_result"
    }
   ],
   "source": [
    "series_obj[[0,5]]"
   ]
  },
  {
   "cell_type": "markdown",
   "metadata": {},
   "source": [
    "## Create a DataFrame"
   ]
  },
  {
   "cell_type": "code",
   "execution_count": 5,
   "metadata": {},
   "outputs": [],
   "source": [
    "np.random.seed(25)\n",
    "DF = DataFrame(np.random.rand(36).reshape(6,6), index=['row 1', 'row 2','row 3','row 4', 'row 5','row 6'], \n",
    "              columns=['column 1','column 2','column 3','column 4','column 5','column 6'])"
   ]
  },
  {
   "cell_type": "code",
   "execution_count": 6,
   "metadata": {},
   "outputs": [
    {
     "data": {
      "text/html": [
       "<div>\n",
       "<style scoped>\n",
       "    .dataframe tbody tr th:only-of-type {\n",
       "        vertical-align: middle;\n",
       "    }\n",
       "\n",
       "    .dataframe tbody tr th {\n",
       "        vertical-align: top;\n",
       "    }\n",
       "\n",
       "    .dataframe thead th {\n",
       "        text-align: right;\n",
       "    }\n",
       "</style>\n",
       "<table border=\"1\" class=\"dataframe\">\n",
       "  <thead>\n",
       "    <tr style=\"text-align: right;\">\n",
       "      <th></th>\n",
       "      <th>column 1</th>\n",
       "      <th>column 2</th>\n",
       "      <th>column 3</th>\n",
       "      <th>column 4</th>\n",
       "      <th>column 5</th>\n",
       "      <th>column 6</th>\n",
       "    </tr>\n",
       "  </thead>\n",
       "  <tbody>\n",
       "    <tr>\n",
       "      <th>row 1</th>\n",
       "      <td>0.870124</td>\n",
       "      <td>0.582277</td>\n",
       "      <td>0.278839</td>\n",
       "      <td>0.185911</td>\n",
       "      <td>0.411100</td>\n",
       "      <td>0.117376</td>\n",
       "    </tr>\n",
       "    <tr>\n",
       "      <th>row 2</th>\n",
       "      <td>0.684969</td>\n",
       "      <td>0.437611</td>\n",
       "      <td>0.556229</td>\n",
       "      <td>0.367080</td>\n",
       "      <td>0.402366</td>\n",
       "      <td>0.113041</td>\n",
       "    </tr>\n",
       "    <tr>\n",
       "      <th>row 3</th>\n",
       "      <td>0.447031</td>\n",
       "      <td>0.585445</td>\n",
       "      <td>0.161985</td>\n",
       "      <td>0.520719</td>\n",
       "      <td>0.326051</td>\n",
       "      <td>0.699186</td>\n",
       "    </tr>\n",
       "    <tr>\n",
       "      <th>row 4</th>\n",
       "      <td>0.366395</td>\n",
       "      <td>0.836375</td>\n",
       "      <td>0.481343</td>\n",
       "      <td>0.516502</td>\n",
       "      <td>0.383048</td>\n",
       "      <td>0.997541</td>\n",
       "    </tr>\n",
       "    <tr>\n",
       "      <th>row 5</th>\n",
       "      <td>0.514244</td>\n",
       "      <td>0.559053</td>\n",
       "      <td>0.034450</td>\n",
       "      <td>0.719930</td>\n",
       "      <td>0.421004</td>\n",
       "      <td>0.436935</td>\n",
       "    </tr>\n",
       "    <tr>\n",
       "      <th>row 6</th>\n",
       "      <td>0.281701</td>\n",
       "      <td>0.900274</td>\n",
       "      <td>0.669612</td>\n",
       "      <td>0.456069</td>\n",
       "      <td>0.289804</td>\n",
       "      <td>0.525819</td>\n",
       "    </tr>\n",
       "  </tbody>\n",
       "</table>\n",
       "</div>"
      ],
      "text/plain": [
       "       column 1  column 2  column 3  column 4  column 5  column 6\n",
       "row 1  0.870124  0.582277  0.278839  0.185911  0.411100  0.117376\n",
       "row 2  0.684969  0.437611  0.556229  0.367080  0.402366  0.113041\n",
       "row 3  0.447031  0.585445  0.161985  0.520719  0.326051  0.699186\n",
       "row 4  0.366395  0.836375  0.481343  0.516502  0.383048  0.997541\n",
       "row 5  0.514244  0.559053  0.034450  0.719930  0.421004  0.436935\n",
       "row 6  0.281701  0.900274  0.669612  0.456069  0.289804  0.525819"
      ]
     },
     "execution_count": 6,
     "metadata": {},
     "output_type": "execute_result"
    }
   ],
   "source": [
    "DF"
   ]
  },
  {
   "cell_type": "markdown",
   "metadata": {},
   "source": [
    "## Select Column & Rows"
   ]
  },
  {
   "cell_type": "code",
   "execution_count": 7,
   "metadata": {},
   "outputs": [
    {
     "data": {
      "text/html": [
       "<div>\n",
       "<style scoped>\n",
       "    .dataframe tbody tr th:only-of-type {\n",
       "        vertical-align: middle;\n",
       "    }\n",
       "\n",
       "    .dataframe tbody tr th {\n",
       "        vertical-align: top;\n",
       "    }\n",
       "\n",
       "    .dataframe thead th {\n",
       "        text-align: right;\n",
       "    }\n",
       "</style>\n",
       "<table border=\"1\" class=\"dataframe\">\n",
       "  <thead>\n",
       "    <tr style=\"text-align: right;\">\n",
       "      <th></th>\n",
       "      <th>column 3</th>\n",
       "      <th>column 1</th>\n",
       "    </tr>\n",
       "  </thead>\n",
       "  <tbody>\n",
       "    <tr>\n",
       "      <th>row 2</th>\n",
       "      <td>0.556229</td>\n",
       "      <td>0.684969</td>\n",
       "    </tr>\n",
       "    <tr>\n",
       "      <th>row 5</th>\n",
       "      <td>0.034450</td>\n",
       "      <td>0.514244</td>\n",
       "    </tr>\n",
       "  </tbody>\n",
       "</table>\n",
       "</div>"
      ],
      "text/plain": [
       "       column 3  column 1\n",
       "row 2  0.556229  0.684969\n",
       "row 5  0.034450  0.514244"
      ]
     },
     "execution_count": 7,
     "metadata": {},
     "output_type": "execute_result"
    }
   ],
   "source": [
    "DF.loc[['row 2','row 5'],['column 3','column 1']]"
   ]
  },
  {
   "cell_type": "markdown",
   "metadata": {},
   "source": [
    "## Slice Rows & Columns"
   ]
  },
  {
   "cell_type": "code",
   "execution_count": 8,
   "metadata": {},
   "outputs": [
    {
     "data": {
      "text/plain": [
       "row 2    1\n",
       "row 3    2\n",
       "row 4    3\n",
       "row 5    4\n",
       "dtype: int32"
      ]
     },
     "execution_count": 8,
     "metadata": {},
     "output_type": "execute_result"
    }
   ],
   "source": [
    "series_obj['row 2':'row 5']"
   ]
  },
  {
   "cell_type": "markdown",
   "metadata": {},
   "source": [
    "## Comparison with scalars"
   ]
  },
  {
   "cell_type": "code",
   "execution_count": 9,
   "metadata": {},
   "outputs": [
    {
     "data": {
      "text/html": [
       "<div>\n",
       "<style scoped>\n",
       "    .dataframe tbody tr th:only-of-type {\n",
       "        vertical-align: middle;\n",
       "    }\n",
       "\n",
       "    .dataframe tbody tr th {\n",
       "        vertical-align: top;\n",
       "    }\n",
       "\n",
       "    .dataframe thead th {\n",
       "        text-align: right;\n",
       "    }\n",
       "</style>\n",
       "<table border=\"1\" class=\"dataframe\">\n",
       "  <thead>\n",
       "    <tr style=\"text-align: right;\">\n",
       "      <th></th>\n",
       "      <th>column 1</th>\n",
       "      <th>column 2</th>\n",
       "      <th>column 3</th>\n",
       "      <th>column 4</th>\n",
       "      <th>column 5</th>\n",
       "      <th>column 6</th>\n",
       "    </tr>\n",
       "  </thead>\n",
       "  <tbody>\n",
       "    <tr>\n",
       "      <th>row 1</th>\n",
       "      <td>False</td>\n",
       "      <td>False</td>\n",
       "      <td>False</td>\n",
       "      <td>True</td>\n",
       "      <td>False</td>\n",
       "      <td>True</td>\n",
       "    </tr>\n",
       "    <tr>\n",
       "      <th>row 2</th>\n",
       "      <td>False</td>\n",
       "      <td>False</td>\n",
       "      <td>False</td>\n",
       "      <td>False</td>\n",
       "      <td>False</td>\n",
       "      <td>True</td>\n",
       "    </tr>\n",
       "    <tr>\n",
       "      <th>row 3</th>\n",
       "      <td>False</td>\n",
       "      <td>False</td>\n",
       "      <td>True</td>\n",
       "      <td>False</td>\n",
       "      <td>False</td>\n",
       "      <td>False</td>\n",
       "    </tr>\n",
       "    <tr>\n",
       "      <th>row 4</th>\n",
       "      <td>False</td>\n",
       "      <td>False</td>\n",
       "      <td>False</td>\n",
       "      <td>False</td>\n",
       "      <td>False</td>\n",
       "      <td>False</td>\n",
       "    </tr>\n",
       "    <tr>\n",
       "      <th>row 5</th>\n",
       "      <td>False</td>\n",
       "      <td>False</td>\n",
       "      <td>True</td>\n",
       "      <td>False</td>\n",
       "      <td>False</td>\n",
       "      <td>False</td>\n",
       "    </tr>\n",
       "    <tr>\n",
       "      <th>row 6</th>\n",
       "      <td>False</td>\n",
       "      <td>False</td>\n",
       "      <td>False</td>\n",
       "      <td>False</td>\n",
       "      <td>False</td>\n",
       "      <td>False</td>\n",
       "    </tr>\n",
       "  </tbody>\n",
       "</table>\n",
       "</div>"
      ],
      "text/plain": [
       "       column 1  column 2  column 3  column 4  column 5  column 6\n",
       "row 1     False     False     False      True     False      True\n",
       "row 2     False     False     False     False     False      True\n",
       "row 3     False     False      True     False     False     False\n",
       "row 4     False     False     False     False     False     False\n",
       "row 5     False     False      True     False     False     False\n",
       "row 6     False     False     False     False     False     False"
      ]
     },
     "execution_count": 9,
     "metadata": {},
     "output_type": "execute_result"
    }
   ],
   "source": [
    "DF < .2"
   ]
  },
  {
   "cell_type": "markdown",
   "metadata": {},
   "source": [
    "## Filtering with scalars\n"
   ]
  },
  {
   "cell_type": "code",
   "execution_count": 10,
   "metadata": {},
   "outputs": [
    {
     "data": {
      "text/plain": [
       "row 1    0\n",
       "row 2    1\n",
       "row 3    2\n",
       "row 4    3\n",
       "dtype: int32"
      ]
     },
     "execution_count": 10,
     "metadata": {},
     "output_type": "execute_result"
    }
   ],
   "source": [
    "series_obj[series_obj<4]"
   ]
  },
  {
   "cell_type": "code",
   "execution_count": 11,
   "metadata": {},
   "outputs": [
    {
     "data": {
      "text/html": [
       "<div>\n",
       "<style scoped>\n",
       "    .dataframe tbody tr th:only-of-type {\n",
       "        vertical-align: middle;\n",
       "    }\n",
       "\n",
       "    .dataframe tbody tr th {\n",
       "        vertical-align: top;\n",
       "    }\n",
       "\n",
       "    .dataframe thead th {\n",
       "        text-align: right;\n",
       "    }\n",
       "</style>\n",
       "<table border=\"1\" class=\"dataframe\">\n",
       "  <thead>\n",
       "    <tr style=\"text-align: right;\">\n",
       "      <th></th>\n",
       "      <th>column 1</th>\n",
       "      <th>column 2</th>\n",
       "      <th>column 3</th>\n",
       "      <th>column 4</th>\n",
       "      <th>column 5</th>\n",
       "      <th>column 6</th>\n",
       "    </tr>\n",
       "  </thead>\n",
       "  <tbody>\n",
       "    <tr>\n",
       "      <th>row 1</th>\n",
       "      <td>0.870124</td>\n",
       "      <td>0.582277</td>\n",
       "      <td>0.278839</td>\n",
       "      <td>NaN</td>\n",
       "      <td>0.411100</td>\n",
       "      <td>NaN</td>\n",
       "    </tr>\n",
       "    <tr>\n",
       "      <th>row 2</th>\n",
       "      <td>0.684969</td>\n",
       "      <td>0.437611</td>\n",
       "      <td>0.556229</td>\n",
       "      <td>0.367080</td>\n",
       "      <td>0.402366</td>\n",
       "      <td>NaN</td>\n",
       "    </tr>\n",
       "    <tr>\n",
       "      <th>row 3</th>\n",
       "      <td>0.447031</td>\n",
       "      <td>0.585445</td>\n",
       "      <td>NaN</td>\n",
       "      <td>0.520719</td>\n",
       "      <td>0.326051</td>\n",
       "      <td>0.699186</td>\n",
       "    </tr>\n",
       "    <tr>\n",
       "      <th>row 4</th>\n",
       "      <td>0.366395</td>\n",
       "      <td>0.836375</td>\n",
       "      <td>0.481343</td>\n",
       "      <td>0.516502</td>\n",
       "      <td>0.383048</td>\n",
       "      <td>0.997541</td>\n",
       "    </tr>\n",
       "    <tr>\n",
       "      <th>row 5</th>\n",
       "      <td>0.514244</td>\n",
       "      <td>0.559053</td>\n",
       "      <td>NaN</td>\n",
       "      <td>0.719930</td>\n",
       "      <td>0.421004</td>\n",
       "      <td>0.436935</td>\n",
       "    </tr>\n",
       "    <tr>\n",
       "      <th>row 6</th>\n",
       "      <td>0.281701</td>\n",
       "      <td>0.900274</td>\n",
       "      <td>0.669612</td>\n",
       "      <td>0.456069</td>\n",
       "      <td>0.289804</td>\n",
       "      <td>0.525819</td>\n",
       "    </tr>\n",
       "  </tbody>\n",
       "</table>\n",
       "</div>"
      ],
      "text/plain": [
       "       column 1  column 2  column 3  column 4  column 5  column 6\n",
       "row 1  0.870124  0.582277  0.278839       NaN  0.411100       NaN\n",
       "row 2  0.684969  0.437611  0.556229  0.367080  0.402366       NaN\n",
       "row 3  0.447031  0.585445       NaN  0.520719  0.326051  0.699186\n",
       "row 4  0.366395  0.836375  0.481343  0.516502  0.383048  0.997541\n",
       "row 5  0.514244  0.559053       NaN  0.719930  0.421004  0.436935\n",
       "row 6  0.281701  0.900274  0.669612  0.456069  0.289804  0.525819"
      ]
     },
     "execution_count": 11,
     "metadata": {},
     "output_type": "execute_result"
    }
   ],
   "source": [
    "DF[DF>0.2]\n",
    "# IT return NAN for the element that not satisfy the condition"
   ]
  },
  {
   "cell_type": "markdown",
   "metadata": {},
   "source": [
    "## Setting data with scalars"
   ]
  },
  {
   "cell_type": "code",
   "execution_count": 12,
   "metadata": {},
   "outputs": [
    {
     "data": {
      "text/plain": [
       "row 1    1000\n",
       "row 2       1\n",
       "row 3       2\n",
       "row 4       3\n",
       "row 5    1000\n",
       "row 6       5\n",
       "dtype: int32"
      ]
     },
     "execution_count": 12,
     "metadata": {},
     "output_type": "execute_result"
    }
   ],
   "source": [
    "series_obj['row 1', 'row 5']= 1000\n",
    "series_obj"
   ]
  },
  {
   "cell_type": "markdown",
   "metadata": {},
   "source": [
    "# Missing values\n",
    "I valori mancanti sono rappresentati dal valore\"NaN\" (Not a Number).\n",
    "Ci sono vari modi per gestire i valori mancanti, uno di questi e quello di sostituirli con la media dei valori a nostra disposizione."
   ]
  },
  {
   "cell_type": "code",
   "execution_count": 13,
   "metadata": {},
   "outputs": [
    {
     "data": {
      "text/plain": [
       "0    row 1\n",
       "1    row 2\n",
       "2      NaN\n",
       "3      NaN\n",
       "4    row 5\n",
       "5    row 6\n",
       "dtype: object"
      ]
     },
     "execution_count": 13,
     "metadata": {},
     "output_type": "execute_result"
    }
   ],
   "source": [
    "missing = np.nan\n",
    "series_obj = Series(['row 1', 'row 2', missing,missing, 'row 5', 'row 6'])\n",
    "series_obj"
   ]
  },
  {
   "cell_type": "code",
   "execution_count": 14,
   "metadata": {},
   "outputs": [
    {
     "data": {
      "text/plain": [
       "0    False\n",
       "1    False\n",
       "2     True\n",
       "3     True\n",
       "4    False\n",
       "5    False\n",
       "dtype: bool"
      ]
     },
     "execution_count": 14,
     "metadata": {},
     "output_type": "execute_result"
    }
   ],
   "source": [
    "series_obj.isnull()"
   ]
  },
  {
   "cell_type": "code",
   "execution_count": 15,
   "metadata": {},
   "outputs": [
    {
     "data": {
      "text/plain": [
       "2    NaN\n",
       "3    NaN\n",
       "dtype: object"
      ]
     },
     "execution_count": 15,
     "metadata": {},
     "output_type": "execute_result"
    }
   ],
   "source": [
    "series_obj[series_obj.isnull()]"
   ]
  },
  {
   "cell_type": "markdown",
   "metadata": {},
   "source": [
    "## Filling missing values"
   ]
  },
  {
   "cell_type": "code",
   "execution_count": 16,
   "metadata": {},
   "outputs": [
    {
     "data": {
      "text/html": [
       "<div>\n",
       "<style scoped>\n",
       "    .dataframe tbody tr th:only-of-type {\n",
       "        vertical-align: middle;\n",
       "    }\n",
       "\n",
       "    .dataframe tbody tr th {\n",
       "        vertical-align: top;\n",
       "    }\n",
       "\n",
       "    .dataframe thead th {\n",
       "        text-align: right;\n",
       "    }\n",
       "</style>\n",
       "<table border=\"1\" class=\"dataframe\">\n",
       "  <thead>\n",
       "    <tr style=\"text-align: right;\">\n",
       "      <th></th>\n",
       "      <th>0</th>\n",
       "      <th>1</th>\n",
       "      <th>2</th>\n",
       "      <th>3</th>\n",
       "      <th>4</th>\n",
       "      <th>5</th>\n",
       "    </tr>\n",
       "  </thead>\n",
       "  <tbody>\n",
       "    <tr>\n",
       "      <th>0</th>\n",
       "      <td>0.870124</td>\n",
       "      <td>0.582277</td>\n",
       "      <td>0.278839</td>\n",
       "      <td>0.185911</td>\n",
       "      <td>0.411100</td>\n",
       "      <td>0.117376</td>\n",
       "    </tr>\n",
       "    <tr>\n",
       "      <th>1</th>\n",
       "      <td>0.684969</td>\n",
       "      <td>0.437611</td>\n",
       "      <td>0.556229</td>\n",
       "      <td>0.367080</td>\n",
       "      <td>0.402366</td>\n",
       "      <td>0.113041</td>\n",
       "    </tr>\n",
       "    <tr>\n",
       "      <th>2</th>\n",
       "      <td>0.447031</td>\n",
       "      <td>0.585445</td>\n",
       "      <td>0.161985</td>\n",
       "      <td>0.520719</td>\n",
       "      <td>0.326051</td>\n",
       "      <td>0.699186</td>\n",
       "    </tr>\n",
       "    <tr>\n",
       "      <th>3</th>\n",
       "      <td>0.366395</td>\n",
       "      <td>0.836375</td>\n",
       "      <td>0.481343</td>\n",
       "      <td>0.516502</td>\n",
       "      <td>0.383048</td>\n",
       "      <td>0.997541</td>\n",
       "    </tr>\n",
       "    <tr>\n",
       "      <th>4</th>\n",
       "      <td>0.514244</td>\n",
       "      <td>0.559053</td>\n",
       "      <td>0.034450</td>\n",
       "      <td>0.719930</td>\n",
       "      <td>0.421004</td>\n",
       "      <td>0.436935</td>\n",
       "    </tr>\n",
       "    <tr>\n",
       "      <th>5</th>\n",
       "      <td>0.281701</td>\n",
       "      <td>0.900274</td>\n",
       "      <td>0.669612</td>\n",
       "      <td>0.456069</td>\n",
       "      <td>0.289804</td>\n",
       "      <td>0.525819</td>\n",
       "    </tr>\n",
       "  </tbody>\n",
       "</table>\n",
       "</div>"
      ],
      "text/plain": [
       "          0         1         2         3         4         5\n",
       "0  0.870124  0.582277  0.278839  0.185911  0.411100  0.117376\n",
       "1  0.684969  0.437611  0.556229  0.367080  0.402366  0.113041\n",
       "2  0.447031  0.585445  0.161985  0.520719  0.326051  0.699186\n",
       "3  0.366395  0.836375  0.481343  0.516502  0.383048  0.997541\n",
       "4  0.514244  0.559053  0.034450  0.719930  0.421004  0.436935\n",
       "5  0.281701  0.900274  0.669612  0.456069  0.289804  0.525819"
      ]
     },
     "execution_count": 16,
     "metadata": {},
     "output_type": "execute_result"
    }
   ],
   "source": [
    "np.random.seed(25)\n",
    "DF = DataFrame(np.random.rand(36).reshape(6,6))\n",
    "DF"
   ]
  },
  {
   "cell_type": "code",
   "execution_count": 17,
   "metadata": {},
   "outputs": [
    {
     "data": {
      "text/html": [
       "<div>\n",
       "<style scoped>\n",
       "    .dataframe tbody tr th:only-of-type {\n",
       "        vertical-align: middle;\n",
       "    }\n",
       "\n",
       "    .dataframe tbody tr th {\n",
       "        vertical-align: top;\n",
       "    }\n",
       "\n",
       "    .dataframe thead th {\n",
       "        text-align: right;\n",
       "    }\n",
       "</style>\n",
       "<table border=\"1\" class=\"dataframe\">\n",
       "  <thead>\n",
       "    <tr style=\"text-align: right;\">\n",
       "      <th></th>\n",
       "      <th>0</th>\n",
       "      <th>1</th>\n",
       "      <th>2</th>\n",
       "      <th>3</th>\n",
       "      <th>4</th>\n",
       "      <th>5</th>\n",
       "    </tr>\n",
       "  </thead>\n",
       "  <tbody>\n",
       "    <tr>\n",
       "      <th>0</th>\n",
       "      <td>0.870124</td>\n",
       "      <td>0.582277</td>\n",
       "      <td>0.278839</td>\n",
       "      <td>0.185911</td>\n",
       "      <td>0.411100</td>\n",
       "      <td>0.117376</td>\n",
       "    </tr>\n",
       "    <tr>\n",
       "      <th>1</th>\n",
       "      <td>0.684969</td>\n",
       "      <td>0.437611</td>\n",
       "      <td>0.556229</td>\n",
       "      <td>0.367080</td>\n",
       "      <td>0.402366</td>\n",
       "      <td>NaN</td>\n",
       "    </tr>\n",
       "    <tr>\n",
       "      <th>2</th>\n",
       "      <td>0.447031</td>\n",
       "      <td>0.585445</td>\n",
       "      <td>0.161985</td>\n",
       "      <td>0.520719</td>\n",
       "      <td>0.326051</td>\n",
       "      <td>NaN</td>\n",
       "    </tr>\n",
       "    <tr>\n",
       "      <th>3</th>\n",
       "      <td>NaN</td>\n",
       "      <td>0.836375</td>\n",
       "      <td>0.481343</td>\n",
       "      <td>0.516502</td>\n",
       "      <td>0.383048</td>\n",
       "      <td>NaN</td>\n",
       "    </tr>\n",
       "    <tr>\n",
       "      <th>4</th>\n",
       "      <td>NaN</td>\n",
       "      <td>0.559053</td>\n",
       "      <td>0.034450</td>\n",
       "      <td>0.719930</td>\n",
       "      <td>0.421004</td>\n",
       "      <td>NaN</td>\n",
       "    </tr>\n",
       "    <tr>\n",
       "      <th>5</th>\n",
       "      <td>NaN</td>\n",
       "      <td>0.900274</td>\n",
       "      <td>0.669612</td>\n",
       "      <td>0.456069</td>\n",
       "      <td>0.289804</td>\n",
       "      <td>0.525819</td>\n",
       "    </tr>\n",
       "  </tbody>\n",
       "</table>\n",
       "</div>"
      ],
      "text/plain": [
       "          0         1         2         3         4         5\n",
       "0  0.870124  0.582277  0.278839  0.185911  0.411100  0.117376\n",
       "1  0.684969  0.437611  0.556229  0.367080  0.402366       NaN\n",
       "2  0.447031  0.585445  0.161985  0.520719  0.326051       NaN\n",
       "3       NaN  0.836375  0.481343  0.516502  0.383048       NaN\n",
       "4       NaN  0.559053  0.034450  0.719930  0.421004       NaN\n",
       "5       NaN  0.900274  0.669612  0.456069  0.289804  0.525819"
      ]
     },
     "execution_count": 17,
     "metadata": {},
     "output_type": "execute_result"
    }
   ],
   "source": [
    "DF.loc[3:5,0] = missing\n",
    "DF.loc[1:4,5] = missing\n",
    "DF"
   ]
  },
  {
   "cell_type": "code",
   "execution_count": 28,
   "metadata": {},
   "outputs": [
    {
     "data": {
      "text/html": [
       "<div>\n",
       "<style scoped>\n",
       "    .dataframe tbody tr th:only-of-type {\n",
       "        vertical-align: middle;\n",
       "    }\n",
       "\n",
       "    .dataframe tbody tr th {\n",
       "        vertical-align: top;\n",
       "    }\n",
       "\n",
       "    .dataframe thead th {\n",
       "        text-align: right;\n",
       "    }\n",
       "</style>\n",
       "<table border=\"1\" class=\"dataframe\">\n",
       "  <thead>\n",
       "    <tr style=\"text-align: right;\">\n",
       "      <th></th>\n",
       "      <th>0</th>\n",
       "      <th>1</th>\n",
       "      <th>2</th>\n",
       "      <th>3</th>\n",
       "      <th>4</th>\n",
       "      <th>5</th>\n",
       "    </tr>\n",
       "  </thead>\n",
       "  <tbody>\n",
       "    <tr>\n",
       "      <th>0</th>\n",
       "      <td>0.870124</td>\n",
       "      <td>0.582277</td>\n",
       "      <td>0.278839</td>\n",
       "      <td>0.185911</td>\n",
       "      <td>0.411100</td>\n",
       "      <td>0.117376</td>\n",
       "    </tr>\n",
       "    <tr>\n",
       "      <th>1</th>\n",
       "      <td>0.684969</td>\n",
       "      <td>0.437611</td>\n",
       "      <td>0.556229</td>\n",
       "      <td>0.367080</td>\n",
       "      <td>0.402366</td>\n",
       "      <td>0.000000</td>\n",
       "    </tr>\n",
       "    <tr>\n",
       "      <th>2</th>\n",
       "      <td>0.447031</td>\n",
       "      <td>0.585445</td>\n",
       "      <td>0.161985</td>\n",
       "      <td>0.520719</td>\n",
       "      <td>0.326051</td>\n",
       "      <td>0.000000</td>\n",
       "    </tr>\n",
       "    <tr>\n",
       "      <th>3</th>\n",
       "      <td>0.000000</td>\n",
       "      <td>0.836375</td>\n",
       "      <td>0.481343</td>\n",
       "      <td>0.516502</td>\n",
       "      <td>0.383048</td>\n",
       "      <td>0.000000</td>\n",
       "    </tr>\n",
       "    <tr>\n",
       "      <th>4</th>\n",
       "      <td>0.000000</td>\n",
       "      <td>0.559053</td>\n",
       "      <td>0.034450</td>\n",
       "      <td>0.719930</td>\n",
       "      <td>0.421004</td>\n",
       "      <td>0.000000</td>\n",
       "    </tr>\n",
       "    <tr>\n",
       "      <th>5</th>\n",
       "      <td>0.000000</td>\n",
       "      <td>0.900274</td>\n",
       "      <td>0.669612</td>\n",
       "      <td>0.456069</td>\n",
       "      <td>0.289804</td>\n",
       "      <td>0.525819</td>\n",
       "    </tr>\n",
       "  </tbody>\n",
       "</table>\n",
       "</div>"
      ],
      "text/plain": [
       "          0         1         2         3         4         5\n",
       "0  0.870124  0.582277  0.278839  0.185911  0.411100  0.117376\n",
       "1  0.684969  0.437611  0.556229  0.367080  0.402366  0.000000\n",
       "2  0.447031  0.585445  0.161985  0.520719  0.326051  0.000000\n",
       "3  0.000000  0.836375  0.481343  0.516502  0.383048  0.000000\n",
       "4  0.000000  0.559053  0.034450  0.719930  0.421004  0.000000\n",
       "5  0.000000  0.900274  0.669612  0.456069  0.289804  0.525819"
      ]
     },
     "execution_count": 28,
     "metadata": {},
     "output_type": "execute_result"
    }
   ],
   "source": [
    "DF_filled = DF.fillna(0) # fillna() function fill the missing values with the passed parameter\n",
    "DF_filled"
   ]
  },
  {
   "cell_type": "code",
   "execution_count": 30,
   "metadata": {},
   "outputs": [
    {
     "data": {
      "text/html": [
       "<div>\n",
       "<style scoped>\n",
       "    .dataframe tbody tr th:only-of-type {\n",
       "        vertical-align: middle;\n",
       "    }\n",
       "\n",
       "    .dataframe tbody tr th {\n",
       "        vertical-align: top;\n",
       "    }\n",
       "\n",
       "    .dataframe thead th {\n",
       "        text-align: right;\n",
       "    }\n",
       "</style>\n",
       "<table border=\"1\" class=\"dataframe\">\n",
       "  <thead>\n",
       "    <tr style=\"text-align: right;\">\n",
       "      <th></th>\n",
       "      <th>0</th>\n",
       "      <th>1</th>\n",
       "      <th>2</th>\n",
       "      <th>3</th>\n",
       "      <th>4</th>\n",
       "      <th>5</th>\n",
       "    </tr>\n",
       "  </thead>\n",
       "  <tbody>\n",
       "    <tr>\n",
       "      <th>0</th>\n",
       "      <td>0.870124</td>\n",
       "      <td>0.582277</td>\n",
       "      <td>0.278839</td>\n",
       "      <td>0.185911</td>\n",
       "      <td>0.411100</td>\n",
       "      <td>0.117376</td>\n",
       "    </tr>\n",
       "    <tr>\n",
       "      <th>1</th>\n",
       "      <td>0.684969</td>\n",
       "      <td>0.437611</td>\n",
       "      <td>0.556229</td>\n",
       "      <td>0.367080</td>\n",
       "      <td>0.402366</td>\n",
       "      <td>2.000000</td>\n",
       "    </tr>\n",
       "    <tr>\n",
       "      <th>2</th>\n",
       "      <td>0.447031</td>\n",
       "      <td>0.585445</td>\n",
       "      <td>0.161985</td>\n",
       "      <td>0.520719</td>\n",
       "      <td>0.326051</td>\n",
       "      <td>2.000000</td>\n",
       "    </tr>\n",
       "    <tr>\n",
       "      <th>3</th>\n",
       "      <td>0.100000</td>\n",
       "      <td>0.836375</td>\n",
       "      <td>0.481343</td>\n",
       "      <td>0.516502</td>\n",
       "      <td>0.383048</td>\n",
       "      <td>2.000000</td>\n",
       "    </tr>\n",
       "    <tr>\n",
       "      <th>4</th>\n",
       "      <td>0.100000</td>\n",
       "      <td>0.559053</td>\n",
       "      <td>0.034450</td>\n",
       "      <td>0.719930</td>\n",
       "      <td>0.421004</td>\n",
       "      <td>2.000000</td>\n",
       "    </tr>\n",
       "    <tr>\n",
       "      <th>5</th>\n",
       "      <td>0.100000</td>\n",
       "      <td>0.900274</td>\n",
       "      <td>0.669612</td>\n",
       "      <td>0.456069</td>\n",
       "      <td>0.289804</td>\n",
       "      <td>0.525819</td>\n",
       "    </tr>\n",
       "  </tbody>\n",
       "</table>\n",
       "</div>"
      ],
      "text/plain": [
       "          0         1         2         3         4         5\n",
       "0  0.870124  0.582277  0.278839  0.185911  0.411100  0.117376\n",
       "1  0.684969  0.437611  0.556229  0.367080  0.402366  2.000000\n",
       "2  0.447031  0.585445  0.161985  0.520719  0.326051  2.000000\n",
       "3  0.100000  0.836375  0.481343  0.516502  0.383048  2.000000\n",
       "4  0.100000  0.559053  0.034450  0.719930  0.421004  2.000000\n",
       "5  0.100000  0.900274  0.669612  0.456069  0.289804  0.525819"
      ]
     },
     "execution_count": 30,
     "metadata": {},
     "output_type": "execute_result"
    }
   ],
   "source": [
    "DF_filled = DF.fillna({0:0.1, 5:2}) # fill column 0 with value 0.1 and column with value 2\n",
    "DF_filled"
   ]
  },
  {
   "cell_type": "code",
   "execution_count": 33,
   "metadata": {},
   "outputs": [
    {
     "data": {
      "text/html": [
       "<div>\n",
       "<style scoped>\n",
       "    .dataframe tbody tr th:only-of-type {\n",
       "        vertical-align: middle;\n",
       "    }\n",
       "\n",
       "    .dataframe tbody tr th {\n",
       "        vertical-align: top;\n",
       "    }\n",
       "\n",
       "    .dataframe thead th {\n",
       "        text-align: right;\n",
       "    }\n",
       "</style>\n",
       "<table border=\"1\" class=\"dataframe\">\n",
       "  <thead>\n",
       "    <tr style=\"text-align: right;\">\n",
       "      <th></th>\n",
       "      <th>0</th>\n",
       "      <th>1</th>\n",
       "      <th>2</th>\n",
       "      <th>3</th>\n",
       "      <th>4</th>\n",
       "      <th>5</th>\n",
       "    </tr>\n",
       "  </thead>\n",
       "  <tbody>\n",
       "    <tr>\n",
       "      <th>0</th>\n",
       "      <td>0.870124</td>\n",
       "      <td>0.582277</td>\n",
       "      <td>0.278839</td>\n",
       "      <td>0.185911</td>\n",
       "      <td>0.411100</td>\n",
       "      <td>0.117376</td>\n",
       "    </tr>\n",
       "    <tr>\n",
       "      <th>1</th>\n",
       "      <td>0.684969</td>\n",
       "      <td>0.437611</td>\n",
       "      <td>0.556229</td>\n",
       "      <td>0.367080</td>\n",
       "      <td>0.402366</td>\n",
       "      <td>0.117376</td>\n",
       "    </tr>\n",
       "    <tr>\n",
       "      <th>2</th>\n",
       "      <td>0.447031</td>\n",
       "      <td>0.585445</td>\n",
       "      <td>0.161985</td>\n",
       "      <td>0.520719</td>\n",
       "      <td>0.326051</td>\n",
       "      <td>0.117376</td>\n",
       "    </tr>\n",
       "    <tr>\n",
       "      <th>3</th>\n",
       "      <td>0.447031</td>\n",
       "      <td>0.836375</td>\n",
       "      <td>0.481343</td>\n",
       "      <td>0.516502</td>\n",
       "      <td>0.383048</td>\n",
       "      <td>0.117376</td>\n",
       "    </tr>\n",
       "    <tr>\n",
       "      <th>4</th>\n",
       "      <td>0.447031</td>\n",
       "      <td>0.559053</td>\n",
       "      <td>0.034450</td>\n",
       "      <td>0.719930</td>\n",
       "      <td>0.421004</td>\n",
       "      <td>0.117376</td>\n",
       "    </tr>\n",
       "    <tr>\n",
       "      <th>5</th>\n",
       "      <td>0.447031</td>\n",
       "      <td>0.900274</td>\n",
       "      <td>0.669612</td>\n",
       "      <td>0.456069</td>\n",
       "      <td>0.289804</td>\n",
       "      <td>0.525819</td>\n",
       "    </tr>\n",
       "  </tbody>\n",
       "</table>\n",
       "</div>"
      ],
      "text/plain": [
       "          0         1         2         3         4         5\n",
       "0  0.870124  0.582277  0.278839  0.185911  0.411100  0.117376\n",
       "1  0.684969  0.437611  0.556229  0.367080  0.402366  0.117376\n",
       "2  0.447031  0.585445  0.161985  0.520719  0.326051  0.117376\n",
       "3  0.447031  0.836375  0.481343  0.516502  0.383048  0.117376\n",
       "4  0.447031  0.559053  0.034450  0.719930  0.421004  0.117376\n",
       "5  0.447031  0.900274  0.669612  0.456069  0.289804  0.525819"
      ]
     },
     "execution_count": 33,
     "metadata": {},
     "output_type": "execute_result"
    }
   ],
   "source": [
    "DF_filled = DF.fillna(method='ffill') # methon ffill \"forward fill\": fill the missing values with the last not NaN value\n",
    "DF_filled"
   ]
  },
  {
   "cell_type": "markdown",
   "metadata": {},
   "source": [
    "## Counting Missing Values\n"
   ]
  },
  {
   "cell_type": "code",
   "execution_count": 19,
   "metadata": {},
   "outputs": [
    {
     "data": {
      "text/html": [
       "<div>\n",
       "<style scoped>\n",
       "    .dataframe tbody tr th:only-of-type {\n",
       "        vertical-align: middle;\n",
       "    }\n",
       "\n",
       "    .dataframe tbody tr th {\n",
       "        vertical-align: top;\n",
       "    }\n",
       "\n",
       "    .dataframe thead th {\n",
       "        text-align: right;\n",
       "    }\n",
       "</style>\n",
       "<table border=\"1\" class=\"dataframe\">\n",
       "  <thead>\n",
       "    <tr style=\"text-align: right;\">\n",
       "      <th></th>\n",
       "      <th>0</th>\n",
       "      <th>1</th>\n",
       "      <th>2</th>\n",
       "      <th>3</th>\n",
       "      <th>4</th>\n",
       "      <th>5</th>\n",
       "    </tr>\n",
       "  </thead>\n",
       "  <tbody>\n",
       "    <tr>\n",
       "      <th>0</th>\n",
       "      <td>0.870124</td>\n",
       "      <td>0.582277</td>\n",
       "      <td>0.278839</td>\n",
       "      <td>0.185911</td>\n",
       "      <td>0.411100</td>\n",
       "      <td>0.117376</td>\n",
       "    </tr>\n",
       "    <tr>\n",
       "      <th>1</th>\n",
       "      <td>0.684969</td>\n",
       "      <td>0.437611</td>\n",
       "      <td>0.556229</td>\n",
       "      <td>0.367080</td>\n",
       "      <td>0.402366</td>\n",
       "      <td>NaN</td>\n",
       "    </tr>\n",
       "    <tr>\n",
       "      <th>2</th>\n",
       "      <td>0.447031</td>\n",
       "      <td>0.585445</td>\n",
       "      <td>0.161985</td>\n",
       "      <td>0.520719</td>\n",
       "      <td>0.326051</td>\n",
       "      <td>NaN</td>\n",
       "    </tr>\n",
       "    <tr>\n",
       "      <th>3</th>\n",
       "      <td>NaN</td>\n",
       "      <td>0.836375</td>\n",
       "      <td>0.481343</td>\n",
       "      <td>0.516502</td>\n",
       "      <td>0.383048</td>\n",
       "      <td>NaN</td>\n",
       "    </tr>\n",
       "    <tr>\n",
       "      <th>4</th>\n",
       "      <td>NaN</td>\n",
       "      <td>0.559053</td>\n",
       "      <td>0.034450</td>\n",
       "      <td>0.719930</td>\n",
       "      <td>0.421004</td>\n",
       "      <td>NaN</td>\n",
       "    </tr>\n",
       "    <tr>\n",
       "      <th>5</th>\n",
       "      <td>NaN</td>\n",
       "      <td>0.900274</td>\n",
       "      <td>0.669612</td>\n",
       "      <td>0.456069</td>\n",
       "      <td>0.289804</td>\n",
       "      <td>0.525819</td>\n",
       "    </tr>\n",
       "  </tbody>\n",
       "</table>\n",
       "</div>"
      ],
      "text/plain": [
       "          0         1         2         3         4         5\n",
       "0  0.870124  0.582277  0.278839  0.185911  0.411100  0.117376\n",
       "1  0.684969  0.437611  0.556229  0.367080  0.402366       NaN\n",
       "2  0.447031  0.585445  0.161985  0.520719  0.326051       NaN\n",
       "3       NaN  0.836375  0.481343  0.516502  0.383048       NaN\n",
       "4       NaN  0.559053  0.034450  0.719930  0.421004       NaN\n",
       "5       NaN  0.900274  0.669612  0.456069  0.289804  0.525819"
      ]
     },
     "execution_count": 19,
     "metadata": {},
     "output_type": "execute_result"
    }
   ],
   "source": [
    "DF"
   ]
  },
  {
   "cell_type": "code",
   "execution_count": 20,
   "metadata": {},
   "outputs": [
    {
     "data": {
      "text/plain": [
       "0    3\n",
       "1    0\n",
       "2    0\n",
       "3    0\n",
       "4    0\n",
       "5    4\n",
       "dtype: int64"
      ]
     },
     "execution_count": 20,
     "metadata": {},
     "output_type": "execute_result"
    }
   ],
   "source": [
    "DF.isnull().sum() # return the occurencies of missing values by columns"
   ]
  },
  {
   "cell_type": "markdown",
   "metadata": {},
   "source": [
    "## Filtering out missing values\n"
   ]
  },
  {
   "cell_type": "code",
   "execution_count": 21,
   "metadata": {},
   "outputs": [
    {
     "data": {
      "text/html": [
       "<div>\n",
       "<style scoped>\n",
       "    .dataframe tbody tr th:only-of-type {\n",
       "        vertical-align: middle;\n",
       "    }\n",
       "\n",
       "    .dataframe tbody tr th {\n",
       "        vertical-align: top;\n",
       "    }\n",
       "\n",
       "    .dataframe thead th {\n",
       "        text-align: right;\n",
       "    }\n",
       "</style>\n",
       "<table border=\"1\" class=\"dataframe\">\n",
       "  <thead>\n",
       "    <tr style=\"text-align: right;\">\n",
       "      <th></th>\n",
       "      <th>0</th>\n",
       "      <th>1</th>\n",
       "      <th>2</th>\n",
       "      <th>3</th>\n",
       "      <th>4</th>\n",
       "      <th>5</th>\n",
       "    </tr>\n",
       "  </thead>\n",
       "  <tbody>\n",
       "    <tr>\n",
       "      <th>0</th>\n",
       "      <td>0.870124</td>\n",
       "      <td>0.582277</td>\n",
       "      <td>0.278839</td>\n",
       "      <td>0.185911</td>\n",
       "      <td>0.4111</td>\n",
       "      <td>0.117376</td>\n",
       "    </tr>\n",
       "  </tbody>\n",
       "</table>\n",
       "</div>"
      ],
      "text/plain": [
       "          0         1         2         3       4         5\n",
       "0  0.870124  0.582277  0.278839  0.185911  0.4111  0.117376"
      ]
     },
     "execution_count": 21,
     "metadata": {},
     "output_type": "execute_result"
    }
   ],
   "source": [
    "DF_no_nan = DF.dropna() # delete all ROWS with at least one NaN\n",
    "DF_no_nan\n"
   ]
  },
  {
   "cell_type": "code",
   "execution_count": 22,
   "metadata": {},
   "outputs": [
    {
     "data": {
      "text/html": [
       "<div>\n",
       "<style scoped>\n",
       "    .dataframe tbody tr th:only-of-type {\n",
       "        vertical-align: middle;\n",
       "    }\n",
       "\n",
       "    .dataframe tbody tr th {\n",
       "        vertical-align: top;\n",
       "    }\n",
       "\n",
       "    .dataframe thead th {\n",
       "        text-align: right;\n",
       "    }\n",
       "</style>\n",
       "<table border=\"1\" class=\"dataframe\">\n",
       "  <thead>\n",
       "    <tr style=\"text-align: right;\">\n",
       "      <th></th>\n",
       "      <th>1</th>\n",
       "      <th>2</th>\n",
       "      <th>3</th>\n",
       "      <th>4</th>\n",
       "    </tr>\n",
       "  </thead>\n",
       "  <tbody>\n",
       "    <tr>\n",
       "      <th>0</th>\n",
       "      <td>0.582277</td>\n",
       "      <td>0.278839</td>\n",
       "      <td>0.185911</td>\n",
       "      <td>0.411100</td>\n",
       "    </tr>\n",
       "    <tr>\n",
       "      <th>1</th>\n",
       "      <td>0.437611</td>\n",
       "      <td>0.556229</td>\n",
       "      <td>0.367080</td>\n",
       "      <td>0.402366</td>\n",
       "    </tr>\n",
       "    <tr>\n",
       "      <th>2</th>\n",
       "      <td>0.585445</td>\n",
       "      <td>0.161985</td>\n",
       "      <td>0.520719</td>\n",
       "      <td>0.326051</td>\n",
       "    </tr>\n",
       "    <tr>\n",
       "      <th>3</th>\n",
       "      <td>0.836375</td>\n",
       "      <td>0.481343</td>\n",
       "      <td>0.516502</td>\n",
       "      <td>0.383048</td>\n",
       "    </tr>\n",
       "    <tr>\n",
       "      <th>4</th>\n",
       "      <td>0.559053</td>\n",
       "      <td>0.034450</td>\n",
       "      <td>0.719930</td>\n",
       "      <td>0.421004</td>\n",
       "    </tr>\n",
       "    <tr>\n",
       "      <th>5</th>\n",
       "      <td>0.900274</td>\n",
       "      <td>0.669612</td>\n",
       "      <td>0.456069</td>\n",
       "      <td>0.289804</td>\n",
       "    </tr>\n",
       "  </tbody>\n",
       "</table>\n",
       "</div>"
      ],
      "text/plain": [
       "          1         2         3         4\n",
       "0  0.582277  0.278839  0.185911  0.411100\n",
       "1  0.437611  0.556229  0.367080  0.402366\n",
       "2  0.585445  0.161985  0.520719  0.326051\n",
       "3  0.836375  0.481343  0.516502  0.383048\n",
       "4  0.559053  0.034450  0.719930  0.421004\n",
       "5  0.900274  0.669612  0.456069  0.289804"
      ]
     },
     "execution_count": 22,
     "metadata": {},
     "output_type": "execute_result"
    }
   ],
   "source": [
    "DF_no_nan = DF.dropna(axis=1) # delete all COLUMNS with at least one NaN\n",
    "DF_no_nan\n"
   ]
  }
 ],
 "metadata": {
  "kernelspec": {
   "display_name": "Python 3",
   "language": "python",
   "name": "python3"
  },
  "language_info": {
   "codemirror_mode": {
    "name": "ipython",
    "version": 3
   },
   "file_extension": ".py",
   "mimetype": "text/x-python",
   "name": "python",
   "nbconvert_exporter": "python",
   "pygments_lexer": "ipython3",
   "version": "3.7.0"
  }
 },
 "nbformat": 4,
 "nbformat_minor": 2
}
